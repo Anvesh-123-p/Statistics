{
  "nbformat": 4,
  "nbformat_minor": 0,
  "metadata": {
    "colab": {
      "name": "Stats1_Assignment.ipynb",
      "provenance": [],
      "collapsed_sections": []
    },
    "kernelspec": {
      "name": "python3",
      "display_name": "Python 3"
    }
  },
  "cells": [
    {
      "cell_type": "code",
      "metadata": {
        "id": "qvDgJ25Vuqmu",
        "colab_type": "code",
        "colab": {}
      },
      "source": [
        "import numpy as np\n",
        "import pandas as pd\n",
        "import matplotlib.pyplot as plt\n",
        "import scipy.stats as stats\n",
        "%matplotlib inline\n",
        "import math\n",
        "import seaborn as sns"
      ],
      "execution_count": 18,
      "outputs": []
    },
    {
      "cell_type": "markdown",
      "metadata": {
        "id": "FCp8cyHmuwVi",
        "colab_type": "text"
      },
      "source": [
        "**Calculate the mean, median, mode and standard deviation for the problem\n",
        "statements 1& 2.**"
      ]
    },
    {
      "cell_type": "markdown",
      "metadata": {
        "id": "P3dI7_X4uzVi",
        "colab_type": "text"
      },
      "source": [
        "**Problem Statement 1:**\n",
        "\n",
        "\n",
        "**The marks awarded for an assignment set for a Year 8 class of 20 students were as\n",
        "follows:\n",
        "6 7 5 7 7 8 7 6 9 7 4 10 6 8 8 9 5 6 4 8**"
      ]
    },
    {
      "cell_type": "code",
      "metadata": {
        "id": "NViRGMCJusfS",
        "colab_type": "code",
        "colab": {
          "base_uri": "https://localhost:8080/",
          "height": 68
        },
        "outputId": "77a7edb0-e936-4183-ea96-a4b030f3dd99"
      },
      "source": [
        "marks = np.array([6, 7, 5, 7, 7, 8, 7, 6, 9, 7, 4, 10, 6, 8, 8, 9, 5, 6, 4, 8])\n",
        "print('Mean is ',marks.mean())\n",
        "print('Median is ',np.median(marks))\n",
        "print('Standard Deviation is ',marks.std())"
      ],
      "execution_count": 2,
      "outputs": [
        {
          "output_type": "stream",
          "text": [
            "Mean is  6.85\n",
            "Median is  7.0\n",
            "Standard Deviation is  1.5898113095584647\n"
          ],
          "name": "stdout"
        }
      ]
    },
    {
      "cell_type": "markdown",
      "metadata": {
        "id": "QGiF5p6wvcqq",
        "colab_type": "text"
      },
      "source": [
        "**Problem Statement 2:\n",
        "The number of calls from motorists per day for roadside service was recorded for a\n",
        "particular month:**\n",
        "\n",
        "\n",
        "**28, 122, 217, 130, 120, 86, 80, 90, 140, 120, 70, 40, 145, 113, 90, 68, 174, 194, 170,\n",
        "100, 75, 104, 97, 75,\n",
        "123, 100, 75, 104, 97, 75, 123, 100, 89, 120, 109**"
      ]
    },
    {
      "cell_type": "code",
      "metadata": {
        "id": "5Cmr6y-bvV0N",
        "colab_type": "code",
        "colab": {
          "base_uri": "https://localhost:8080/",
          "height": 68
        },
        "outputId": "b3fe1db9-c647-49db-abfc-c9d3adce8cdf"
      },
      "source": [
        "calls = np.array([28, 122, 217, 130, 120, 86, 80, 90, 140, 120, 70, 40, 145, 113, 90, 68, 174, 194, 170, 100, 75, 104, 97, 75, 123, 100, 75, 104, 97, 75, 123, 100, 89, 120, 109])\n",
        "print('Mean is ',calls.mean())\n",
        "print('Median is ',np.median(calls))\n",
        "print('Standard Deviation is ',calls.std())"
      ],
      "execution_count": 3,
      "outputs": [
        {
          "output_type": "stream",
          "text": [
            "Mean is  107.51428571428572\n",
            "Median is  100.0\n",
            "Standard Deviation is  38.77287080168403\n"
          ],
          "name": "stdout"
        }
      ]
    },
    {
      "cell_type": "markdown",
      "metadata": {
        "id": "v-2pCqbavs5r",
        "colab_type": "text"
      },
      "source": [
        "**Problem Statement 3:**\n",
        "\n",
        "\n",
        "**The number of times I go to the gym in weekdays, are given below along with its\n",
        "associated probability:**\n",
        "\n",
        "\n",
        "**x = 0, 1, 2, 3, 4, 5**\n",
        "\n",
        "\n",
        "**f(x) = 0.09, 0.15, 0.40, 0.25, 0.10, 0.01**\n",
        "\n",
        "\n",
        "**Calculate the mean no. of workouts in a week. Also evaluate the variance involved in\n",
        "it.**"
      ]
    },
    {
      "cell_type": "code",
      "metadata": {
        "id": "-nuMNElVvpdV",
        "colab_type": "code",
        "colab": {
          "base_uri": "https://localhost:8080/",
          "height": 51
        },
        "outputId": "faf8d10b-d182-4e72-d7ae-6b2f6d571e68"
      },
      "source": [
        "x = np.array([0, 1, 2, 3, 4, 5])\n",
        "prob = np.array([0.09, 0.15, 0.40, 0.25, 0.10, 0.01])\n",
        "mean = 0\n",
        "for i in x*prob:\n",
        "  mean += i\n",
        "print('Mean is ',mean )\n",
        "var = 0\n",
        "for i in range(len(x)):\n",
        "  var += ((x[i] - mean)**2) * prob[i]\n",
        "print('Variance is ',var)"
      ],
      "execution_count": 4,
      "outputs": [
        {
          "output_type": "stream",
          "text": [
            "Mean is  2.15\n",
            "Variance is  1.2275\n"
          ],
          "name": "stdout"
        }
      ]
    },
    {
      "cell_type": "markdown",
      "metadata": {
        "id": "vVmvTsuX1QIo",
        "colab_type": "text"
      },
      "source": [
        "**Problem Statement 5:**\n",
        "\n",
        "**A company manufactures LED bulbs with a faulty rate of 30%. If I randomly select 6\n",
        "chosen LEDs, what is the probability of having 2 faulty LEDs in my sample?\n",
        "Calculate the average value of this process. Also evaluate the standard deviation\n",
        "associated with it.**"
      ]
    },
    {
      "cell_type": "code",
      "metadata": {
        "id": "51NxsaM51XZE",
        "colab_type": "code",
        "colab": {
          "base_uri": "https://localhost:8080/",
          "height": 68
        },
        "outputId": "c26f093f-5382-4cf2-c980-bf8e414b06d2"
      },
      "source": [
        "n = 6\n",
        "x = 2\n",
        "p = 0.3\n",
        "print(stats.binom.pmf(x,n,p))\n",
        "print('Average value =',n*p)\n",
        "print('Standar Deviation =',np.sqrt(n*p*(1-p)))"
      ],
      "execution_count": 5,
      "outputs": [
        {
          "output_type": "stream",
          "text": [
            "0.32413499999999995\n",
            "Average value = 1.7999999999999998\n",
            "Standar Deviation = 1.1224972160321822\n"
          ],
          "name": "stdout"
        }
      ]
    },
    {
      "cell_type": "markdown",
      "metadata": {
        "id": "0275lrJD3f2v",
        "colab_type": "text"
      },
      "source": [
        "**Problem Statement 6:**\n",
        "\n",
        "\n",
        "**Gaurav and Barakha are both preparing for entrance exams. Gaurav attempts to\n",
        "solve 8 questions per day with a correction rate of 75%, while Barakha averages\n",
        "around 12 questions per day with a correction rate of 45%. What is the probability\n",
        "that each of them will solve 5 questions correctly? What happens in cases of 4 and 6\n",
        "correct solutions? What do you infer from it? What are the two main governing\n",
        "factors affecting their ability to solve questions correctly?**"
      ]
    },
    {
      "cell_type": "code",
      "metadata": {
        "id": "E6kBd8Mj2jXW",
        "colab_type": "code",
        "colab": {
          "base_uri": "https://localhost:8080/",
          "height": 85
        },
        "outputId": "f90e6073-0379-4926-915d-071eb230da23"
      },
      "source": [
        "lambdag = 8*0.75\n",
        "lambdab = 12*.45\n",
        "g = stats.poisson.pmf(5,lambdag)\n",
        "b = stats.poisson.pmf(5,lambdab)\n",
        "g1 = stats.poisson.pmf(4,lambdag)\n",
        "b1 = stats.poisson.pmf(6,lambdab)\n",
        "print(round(g*100,2),'% probabilty that Gaurav will solve 5 questions correctly')\n",
        "print(round(b*100,2),'% probabilty that Barakha will solve 5 questions correctly')\n",
        "print(round(g1*100,2),'% probabilty that Gaurav will solve 4 questions correctly')\n",
        "print(round(b1*100,2),'% probabilty that Barakha will solve 6 questions correctly')"
      ],
      "execution_count": 6,
      "outputs": [
        {
          "output_type": "stream",
          "text": [
            "16.06 % probabilty that Gaurav will solve 5 questions correctly\n",
            "17.28 % probabilty that Barakha will solve 5 questions correctly\n",
            "13.39 % probabilty that Gaurav will solve 4 questions correctly\n",
            "15.55 % probabilty that Barakha will solve 6 questions correctly\n"
          ],
          "name": "stdout"
        }
      ]
    },
    {
      "cell_type": "markdown",
      "metadata": {
        "id": "mC8I8O4Q6Pyo",
        "colab_type": "text"
      },
      "source": [
        "So we can infer that , the governing factor here is accuracy."
      ]
    },
    {
      "cell_type": "markdown",
      "metadata": {
        "id": "h3IIEZ9B6ac9",
        "colab_type": "text"
      },
      "source": [
        "**Problem Statement 7:**\n",
        "\n",
        "\n",
        "**Customers arrive at a rate of 72 per hour to my shop. What is the probability of 𝑘\n",
        "customers arriving in 4 minutes? a) 5 customers, b) not more than 3 customers, c)\n",
        "more than 3 customers.**"
      ]
    },
    {
      "cell_type": "code",
      "metadata": {
        "id": "NMPpdMRw5a3b",
        "colab_type": "code",
        "colab": {
          "base_uri": "https://localhost:8080/",
          "height": 68
        },
        "outputId": "f3280c28-ebc0-4e3f-fa7b-a464ba9fd7cb"
      },
      "source": [
        "lambda_rate = 72 * 4 / 60\n",
        "a = stats.poisson.pmf(5,lambda_rate)\n",
        "b = stats.poisson.cdf(2,lambda_rate)\n",
        "c = stats.poisson.sf(2,lambda_rate)\n",
        "print('Probability that 5 customers arriving in 4 minutes is :',a)\n",
        "print('Probability that not more than 3 customers arriving in 4 minutes is :',b)\n",
        "print('Probability that more than 3 customers arriving in 4 minutes is :',c)"
      ],
      "execution_count": 7,
      "outputs": [
        {
          "output_type": "stream",
          "text": [
            "Probability that 5 customers arriving in 4 minutes is : 0.17474768364388296\n",
            "Probability that not more than 3 customers arriving in 4 minutes is : 0.1425392188890269\n",
            "Probability that more than 3 customers arriving in 4 minutes is : 0.8574607811109731\n"
          ],
          "name": "stdout"
        }
      ]
    },
    {
      "cell_type": "markdown",
      "metadata": {
        "id": "l6fzSdcc8A9X",
        "colab_type": "text"
      },
      "source": [
        "**Problem Statement 8:**\n",
        "\n",
        "\n",
        "**I work as a data analyst in Aeon Learning Pvt. Ltd. After analyzing data, I make\n",
        "reports, where I have the efficiency of entering 77 words per minute with 6 errors per\n",
        "hour. What is the probability that I will commit 2 errors in a 455-word financial report?\n",
        "What happens when the no. of words increases/decreases (in case of 1000 words,\n",
        "255 words)?**"
      ]
    },
    {
      "cell_type": "code",
      "metadata": {
        "id": "uqOfJYU462kk",
        "colab_type": "code",
        "colab": {
          "base_uri": "https://localhost:8080/",
          "height": 68
        },
        "outputId": "a06bc706-4a95-49af-c5d3-3fd2fd681100"
      },
      "source": [
        "error1 = 455 * 6 / 77\n",
        "print('the probability that I will commit 2 errors in a 455-word financial report is',stats.poisson.pmf(2,error1))\n",
        "error2 = 1000 * 6 / 77\n",
        "print('the probability that I will commit 2 errors in a 455-word financial report is',stats.poisson.pmf(2,error2))\n",
        "error3 = 255 * 6 / 77\n",
        "print('the probability that I will commit 2 errors in a 455-word financial report is',stats.poisson.pmf(2,error3))"
      ],
      "execution_count": 8,
      "outputs": [
        {
          "output_type": "stream",
          "text": [
            "the probability that I will commit 2 errors in a 455-word financial report is 2.51536143880336e-13\n",
            "the probability that I will commit 2 errors in a 455-word financial report is 4.3768593897408885e-31\n",
            "the probability that I will commit 2 errors in a 455-word financial report is 4.633227851444488e-07\n"
          ],
          "name": "stdout"
        }
      ]
    },
    {
      "cell_type": "markdown",
      "metadata": {
        "id": "CX0aN9pXHvQ7",
        "colab_type": "text"
      },
      "source": [
        "So when the words increase , the probabilty of making 2 errors decreases."
      ]
    },
    {
      "cell_type": "markdown",
      "metadata": {
        "id": "RxO2cOBJ8Ewz",
        "colab_type": "text"
      },
      "source": [
        "**Problem Statement 10:**\n",
        "\n",
        "\n",
        "**Please compute the following:**\n",
        "\n",
        "\n",
        "**a) P(Z > 1.26), . P(Z < −0.86), P(Z > −1.37), P(−1.25 < Z < 0.37), . P(Z ≤ −4.6)**\n",
        "\n",
        "\n",
        "**b) Find the value 𝑧 such that 𝑃(𝑍 > 𝑧) = 0.05**\n",
        "\n",
        "\n",
        "**c) Find the value of 𝑧 such that 𝑃(−𝑧 < 𝑍 < 𝑧) = 0.99**"
      ]
    },
    {
      "cell_type": "code",
      "metadata": {
        "id": "mgyozw2o8UqS",
        "colab_type": "code",
        "colab": {
          "base_uri": "https://localhost:8080/",
          "height": 136
        },
        "outputId": "7ecf89ec-047b-431b-94b9-2ff77a69c632"
      },
      "source": [
        "a1 = stats.norm.sf(1.26)\n",
        "a2 = stats.norm.cdf(-0.86)\n",
        "a3 = stats.norm.sf(-1.37)\n",
        "a4 = stats.norm.cdf(0.37) - stats.norm.cdf(-1.25)\n",
        "a5 = stats.norm.cdf(-4.6)\n",
        "print ('P(Z > 1.26) =',a1)\n",
        "print ('P(Z < −0.86) =',a2)\n",
        "print ('P(Z > −1.37) =',a3)\n",
        "print ('P(−1.25 < Z < 0.37) =',a4)\n",
        "print ('P(Z ≤ −4.6) =',a5)\n",
        "b = stats.norm.isf(0.05)\n",
        "c = stats.norm.ppf(0.99)\n",
        "print('The value of z is =',b)\n",
        "print('The value of z is =',c)"
      ],
      "execution_count": 9,
      "outputs": [
        {
          "output_type": "stream",
          "text": [
            "P(Z > 1.26) = 0.1038346811213004\n",
            "P(Z < −0.86) = 0.1948945212518084\n",
            "P(Z > −1.37) = 0.914656549178033\n",
            "P(−1.25 < Z < 0.37) = 0.5386589811336914\n",
            "P(Z ≤ −4.6) = 2.1124547025028537e-06\n",
            "The value of z is = 1.6448536269514729\n",
            "The value of z is = 2.3263478740408408\n"
          ],
          "name": "stdout"
        }
      ]
    },
    {
      "cell_type": "markdown",
      "metadata": {
        "id": "i-0g7c398VUd",
        "colab_type": "text"
      },
      "source": [
        "**Problem Statement 11:**\n",
        "\n",
        "\n",
        "**The current flow in a copper wire follow a normal distribution with a mean of 10 𝑚A\n",
        "and a variance of 4 (𝑚𝐴)2.\n",
        "What is the probability that a current measurement will exceed 13 𝑚𝐴? What is the\n",
        "probability that a current measurement is between 9 and 11mA? Determine the\n",
        "current measurement which has a probability of 0.98.**"
      ]
    },
    {
      "cell_type": "code",
      "metadata": {
        "id": "i6AO_xbK8aOG",
        "colab_type": "code",
        "colab": {
          "base_uri": "https://localhost:8080/",
          "height": 68
        },
        "outputId": "180bfc78-5da0-419e-84ae-2daa89757e33"
      },
      "source": [
        "mu = 10\n",
        "var = 4\n",
        "sigma = np.sqrt(var)\n",
        "print('The probability that current measurement will exceed 13mA is ',stats.norm.sf(13,mu,sigma))\n",
        "print('The probability that current measurement is between 9 and 11mA is ',stats.norm.cdf(11,mu,sigma) - stats.norm.cdf(9,mu,sigma))\n",
        "print('The current measurement which has a probability of 0.98 is ',stats.norm.ppf(0.98,mu,sigma))"
      ],
      "execution_count": 10,
      "outputs": [
        {
          "output_type": "stream",
          "text": [
            "The probability that current measurement will exceed 13mA is  0.06680720126885807\n",
            "The probability that current measurement is between 9 and 11mA is  0.38292492254802624\n",
            "The current measurement which has a probability of 0.98 is  14.107497821263646\n"
          ],
          "name": "stdout"
        }
      ]
    },
    {
      "cell_type": "markdown",
      "metadata": {
        "id": "sDmoW5cR8bBE",
        "colab_type": "text"
      },
      "source": [
        "**Problem Statement 12:**\n",
        "\n",
        "\n",
        "**The shaft in a piston has its diameter normally distributed with a mean of 0.2508 inch\n",
        "and a standard deviation of 0.0005 inch. The specifications of the shaft are 0.2500 ∓\n",
        "0.0015 inch. What proportion of shafts are in sync with the specifications? If the\n",
        "process is centered so that the mean is equal to the target value of 0.2500, what\n",
        "proportion of shafts conform to the new specifications? What is your conclusion from\n",
        "this experiment?**"
      ]
    },
    {
      "cell_type": "code",
      "metadata": {
        "id": "MxzE8IIU8ejI",
        "colab_type": "code",
        "colab": {
          "base_uri": "https://localhost:8080/",
          "height": 51
        },
        "outputId": "a9b3bad0-bed5-4690-9e60-69263ce9890c"
      },
      "source": [
        "mu = 0.2508\n",
        "sigma = 0.0005\n",
        "ll = 0.25-0.0015\n",
        "ul = 0.25+0.0015\n",
        "p1 = stats.norm.pdf(ll,mu,sigma)\n",
        "p2 = stats.norm.pdf(ul,mu,sigma)\n",
        "p3 = stats.norm.pdf(0.25,mu,sigma)\n",
        "print('The proportion of shafts are in range from ',p1,' to',p2)\n",
        "print('The proportion of shafts confirm to the new specification is ',p3)"
      ],
      "execution_count": 11,
      "outputs": [
        {
          "output_type": "stream",
          "text": [
            "The proportion of shafts are in range from  0.020281704130968945  to 299.45493127150786\n",
            "The proportion of shafts confirm to the new specification is  221.84166935889488\n"
          ],
          "name": "stdout"
        }
      ]
    },
    {
      "cell_type": "markdown",
      "metadata": {
        "id": "CZyzHSbvGyd3",
        "colab_type": "text"
      },
      "source": [
        "So the probability increases when the mean is close to sample mean."
      ]
    },
    {
      "cell_type": "code",
      "metadata": {
        "id": "n4bV3rQxGkzS",
        "colab_type": "code",
        "colab": {}
      },
      "source": [
        ""
      ],
      "execution_count": 11,
      "outputs": []
    }
  ]
}