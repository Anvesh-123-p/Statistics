{
  "nbformat": 4,
  "nbformat_minor": 0,
  "metadata": {
    "colab": {
      "name": "Stats3_Assignment.ipynb",
      "provenance": [],
      "collapsed_sections": []
    },
    "kernelspec": {
      "name": "python3",
      "display_name": "Python 3"
    }
  },
  "cells": [
    {
      "cell_type": "code",
      "metadata": {
        "id": "74fV9-IJhG9N",
        "colab_type": "code",
        "colab": {}
      },
      "source": [
        "import numpy as np\n",
        "import scipy.stats as stats"
      ],
      "execution_count": 1,
      "outputs": []
    },
    {
      "cell_type": "markdown",
      "metadata": {
        "id": "s2raITS5grx3",
        "colab_type": "text"
      },
      "source": [
        "**Problem Statement 1:**\n",
        "\n",
        "**Blood glucose levels for obese patients have a mean of 100 with a standard deviation of 15. A researcher thinks that a diet high in raw cornstarch will have a positive effect on\n",
        "blood glucose levels. A sample of 36 patients who have tried the raw cornstarch diet\n",
        "have a mean glucose level of 108. Test the hypothesis that the raw cornstarch had an\n",
        "effect or not.**"
      ]
    },
    {
      "cell_type": "markdown",
      "metadata": {
        "id": "my0fHC82g6Zz",
        "colab_type": "text"
      },
      "source": [
        "H0 : population mean of Blood glucose levels for obese patients = 100.\n",
        "\n",
        "H1 : population mean of Blood glucose levels for obese patients != 100."
      ]
    },
    {
      "cell_type": "code",
      "metadata": {
        "id": "0G_VVzXMgov6",
        "colab_type": "code",
        "colab": {
          "base_uri": "https://localhost:8080/",
          "height": 68
        },
        "outputId": "a8f2d1d3-e893-46da-ab95-ba33bf36776e"
      },
      "source": [
        "mu = 100\n",
        "sigma = 15\n",
        "n = 36\n",
        "xbar = 108\n",
        "alpha = 0.05\n",
        "se = sigma/np.sqrt(n)\n",
        "zstat = (xbar - mu)/se\n",
        "zalphaby2 = stats.norm.isf(alpha/2)\n",
        "pvalue = stats.norm.sf(zstat) * 2\n",
        "print('Z Statistic =',zstat)\n",
        "print('Z alpha =',zalphaby2)\n",
        "print('P-value =',pvalue)"
      ],
      "execution_count": 4,
      "outputs": [
        {
          "output_type": "stream",
          "text": [
            "Z Statistic = 3.2\n",
            "Z alpha = 1.9599639845400545\n",
            "P-value = 0.0013742758758316942\n"
          ],
          "name": "stdout"
        }
      ]
    },
    {
      "cell_type": "markdown",
      "metadata": {
        "id": "iaohQ1AYh8jx",
        "colab_type": "text"
      },
      "source": [
        "**As pvalue < 0.05 and Z-statistic > Z-alpha , we reject the null hypothesis and accept the alternate hypothesis i.e. population mean of Blood glucose levels for obese patients != 100 so the raw cornstarch had an effect.**"
      ]
    },
    {
      "cell_type": "markdown",
      "metadata": {
        "id": "1WJk3TGNh9D-",
        "colab_type": "text"
      },
      "source": [
        "----------------------"
      ]
    },
    {
      "cell_type": "markdown",
      "metadata": {
        "id": "bZOREsPRh9Ss",
        "colab_type": "text"
      },
      "source": [
        "**Problem Statement 2:**\n",
        "\n",
        "**In one state, 52% of the voters are Republicans, and 48% are Democrats. In a second\n",
        "state, 47% of the voters are Republicans, and 53% are Democrats. Suppose a simple\n",
        "random sample of 100 voters are surveyed from each state.**\n",
        "\n",
        "**What is the probability that the survey will show a greater percentage of Republican\n",
        "voters in the second state than in the first state?**"
      ]
    },
    {
      "cell_type": "code",
      "metadata": {
        "id": "lrXbrfUMh3en",
        "colab_type": "code",
        "colab": {
          "base_uri": "https://localhost:8080/",
          "height": 34
        },
        "outputId": "788b394f-4b46-4c98-fdc0-78044cb6be43"
      },
      "source": [
        "n = 100\n",
        "p1 = 0.52\n",
        "q1 = 1 - p1\n",
        "p2 = 0.47\n",
        "q2 = 1 - p2\n",
        "se = np.sqrt(((p1*q1) + (p2*q2))/n)\n",
        "zstat = (p1 - p2)/se\n",
        "pvalue = stats.norm.sf(zstat)\n",
        "print('the probability that the survey will show a greater percentage of Republican voters in the second state than in the first state is',pvalue)"
      ],
      "execution_count": 7,
      "outputs": [
        {
          "output_type": "stream",
          "text": [
            "the probability that the survey will show a greater percentage of Republican voters in the second state than in the first state is 0.23946399182220013\n"
          ],
          "name": "stdout"
        }
      ]
    },
    {
      "cell_type": "markdown",
      "metadata": {
        "id": "C2jiv2pmkXFQ",
        "colab_type": "text"
      },
      "source": [
        "-------------------"
      ]
    },
    {
      "cell_type": "markdown",
      "metadata": {
        "id": "F-x4TyTckXV-",
        "colab_type": "text"
      },
      "source": [
        "**Problem Statement 3:**\n",
        "\n",
        "**You take the SAT and score 1100. The mean score for the SAT is 1026 and the standard\n",
        "deviation is 209. How well did you score on the test compared to the average test taker?**"
      ]
    },
    {
      "cell_type": "code",
      "metadata": {
        "id": "7ceVoNm1j7DF",
        "colab_type": "code",
        "colab": {
          "base_uri": "https://localhost:8080/",
          "height": 34
        },
        "outputId": "929645b4-74d1-41f0-de31-f5fb4c243971"
      },
      "source": [
        "mu = 1026\n",
        "xbar = 1100\n",
        "sigma = 209\n",
        "zstat = (xbar - mu)/sigma\n",
        "pvalue = stats.norm.cdf(zstat)\n",
        "print('So I scored well than',round(pvalue*100,2),'% people.')"
      ],
      "execution_count": 11,
      "outputs": [
        {
          "output_type": "stream",
          "text": [
            "So I scored well than 63.84 % people.\n"
          ],
          "name": "stdout"
        }
      ]
    },
    {
      "cell_type": "code",
      "metadata": {
        "id": "Nv7ykO_4lIKf",
        "colab_type": "code",
        "colab": {}
      },
      "source": [
        ""
      ],
      "execution_count": null,
      "outputs": []
    }
  ]
}