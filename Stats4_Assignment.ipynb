{
  "nbformat": 4,
  "nbformat_minor": 0,
  "metadata": {
    "colab": {
      "name": "Stats4_Assignment.ipynb",
      "provenance": [],
      "collapsed_sections": []
    },
    "kernelspec": {
      "name": "python3",
      "display_name": "Python 3"
    }
  },
  "cells": [
    {
      "cell_type": "code",
      "metadata": {
        "id": "RFE950wfR4hG",
        "colab_type": "code",
        "colab": {}
      },
      "source": [
        "import numpy as np\n",
        "import scipy.stats as stats\n",
        "import pandas as pd"
      ],
      "execution_count": 3,
      "outputs": []
    },
    {
      "cell_type": "markdown",
      "metadata": {
        "id": "Mo_HU7s8SdsU",
        "colab_type": "text"
      },
      "source": [
        "**Problem Statement 1:**\n",
        "\n",
        "**Is gender independent of education level? A random sample of 395 people were\n",
        "surveyed and each person was asked to report the highest education level they\n",
        "obtained. The data that resulted from the survey is summarized in the following table:**"
      ]
    },
    {
      "cell_type": "markdown",
      "metadata": {
        "id": "MAK6b9AnSkgH",
        "colab_type": "text"
      },
      "source": [
        "![Stats4_Assignment1.PNG](data:image/png;base64,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)"
      ]
    },
    {
      "cell_type": "markdown",
      "metadata": {
        "id": "9NJuTlHnSk35",
        "colab_type": "text"
      },
      "source": [
        "**Question: Are gender and education level dependent at 5% level of significance? In\n",
        "other words, given the data collected above, is there a relationship between the\n",
        "gender of an individual and the level of education that they have obtained?**"
      ]
    },
    {
      "cell_type": "markdown",
      "metadata": {
        "id": "5TYd5N2TSlLH",
        "colab_type": "text"
      },
      "source": [
        "H0 : Gender and Education Level are dependent.\n",
        "\n",
        "H1 : Gender and Education Level are independent."
      ]
    },
    {
      "cell_type": "code",
      "metadata": {
        "id": "OAGcz-0ZSR6P",
        "colab_type": "code",
        "colab": {
          "base_uri": "https://localhost:8080/",
          "height": 102
        },
        "outputId": "36305cea-f9a9-4d80-afb0-1851b2fac5b6"
      },
      "source": [
        "table = np.array([60,54,46,41,40,44,53,57]).reshape(2,4)\n",
        "stats.chi2_contingency(table)"
      ],
      "execution_count": 5,
      "outputs": [
        {
          "output_type": "execute_result",
          "data": {
            "text/plain": [
              "(8.006066246262538,\n",
              " 0.045886500891747214,\n",
              " 3,\n",
              " array([[50.88607595, 49.86835443, 50.37721519, 49.86835443],\n",
              "        [49.11392405, 48.13164557, 48.62278481, 48.13164557]]))"
            ]
          },
          "metadata": {
            "tags": []
          },
          "execution_count": 5
        }
      ]
    },
    {
      "cell_type": "markdown",
      "metadata": {
        "id": "9du3KWURVe-R",
        "colab_type": "text"
      },
      "source": [
        "**As the P-value < 0.05 we reject the null hypothesis and accept the alternate hypothesis i.e. Gender and Education Level are independent.**"
      ]
    },
    {
      "cell_type": "markdown",
      "metadata": {
        "id": "TcQ2YU5hVfKI",
        "colab_type": "text"
      },
      "source": [
        "---------------"
      ]
    },
    {
      "cell_type": "markdown",
      "metadata": {
        "id": "yddyTXmIVfVW",
        "colab_type": "text"
      },
      "source": [
        "**Problem Statement 2:**\n",
        "\n",
        "**Using the following data, perform a oneway analysis of variance using α=.05. Write\n",
        "up the results in APA format.**\n",
        "\n",
        "**[Group1: 51, 45, 33, 45, 67]**\n",
        "\n",
        "**[Group2: 23, 43, 23, 43, 45]**\n",
        "\n",
        "**[Group3: 56, 76, 74, 87, 56]**"
      ]
    },
    {
      "cell_type": "markdown",
      "metadata": {
        "id": "3Ntxood6XOTg",
        "colab_type": "text"
      },
      "source": [
        "H0 : All the groups have same variance.\n",
        "\n",
        "H1 : Any two of the groups have different variance."
      ]
    },
    {
      "cell_type": "code",
      "metadata": {
        "id": "DJABKcmnVYrF",
        "colab_type": "code",
        "colab": {
          "base_uri": "https://localhost:8080/",
          "height": 34
        },
        "outputId": "9d99f99e-f2a0-4e19-8a30-399e6ff1ec63"
      },
      "source": [
        "group1 = [51, 45, 33, 45, 67]\n",
        "group2 = [23, 43, 23, 43, 45]\n",
        "group3 = [56, 76, 74, 87, 56]\n",
        "stats.f_oneway(group1,group2,group3)"
      ],
      "execution_count": 6,
      "outputs": [
        {
          "output_type": "execute_result",
          "data": {
            "text/plain": [
              "F_onewayResult(statistic=9.747205503009463, pvalue=0.0030597541434430556)"
            ]
          },
          "metadata": {
            "tags": []
          },
          "execution_count": 6
        }
      ]
    },
    {
      "cell_type": "markdown",
      "metadata": {
        "id": "CCKYvsnzW9AO",
        "colab_type": "text"
      },
      "source": [
        "**As the P-value < 0.05 , we reject the null hypothesis and accept the alternate hypothesis i.e. any two of the groups have different variance.**"
      ]
    },
    {
      "cell_type": "markdown",
      "metadata": {
        "id": "NmZXUg4mW9K7",
        "colab_type": "text"
      },
      "source": [
        "------------------"
      ]
    },
    {
      "cell_type": "markdown",
      "metadata": {
        "id": "eGSKmwbAW9VC",
        "colab_type": "text"
      },
      "source": [
        "**Problem Statement 3:**\n",
        "\n",
        "**Calculate F Test for given 10, 20, 30, 40, 50 and 5,10,15, 20, 25.\n",
        "For 10, 20, 30, 40, 50:**"
      ]
    },
    {
      "cell_type": "code",
      "metadata": {
        "id": "MAUAtMb-Wug7",
        "colab_type": "code",
        "colab": {
          "base_uri": "https://localhost:8080/",
          "height": 34
        },
        "outputId": "776d628c-2416-4219-adb8-a2bc53fc4bab"
      },
      "source": [
        "Group1 = [10, 20, 30, 40, 50]\n",
        "Group2 = [5,10,15, 20, 25]\n",
        "mean_1 = np.mean(Group1)\n",
        "mean_2 = np.mean(Group2)\n",
        "grp1_sub_mean1 = []\n",
        "grp2_sub_mean2 = []\n",
        "add1 = 0\n",
        "add2 = 0\n",
        "for items in Group1:\n",
        "  add1 += (items - mean_1)**2\n",
        "for items in Group2:\n",
        "  add2 += (items - mean_2)**2\n",
        "var1 = add1/(len(Group1)-1)\n",
        "var2 = add2/(len(Group2)-1)\n",
        "\n",
        "F_Test = var1/var2\n",
        "print(\"F Test for given 10, 20, 30, 40, 50 and 5,10,15, 20, 25 is : \",F_Test)"
      ],
      "execution_count": 10,
      "outputs": [
        {
          "output_type": "stream",
          "text": [
            "F Test for given 10, 20, 30, 40, 50 and 5,10,15, 20, 25 is :  4.0\n"
          ],
          "name": "stdout"
        }
      ]
    }
  ]
}